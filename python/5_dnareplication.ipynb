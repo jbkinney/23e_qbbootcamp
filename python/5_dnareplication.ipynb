{
 "cells": [
  {
   "cell_type": "markdown",
   "metadata": {},
   "source": [
    "# Notebook 5: Visualizing DNA replication profiles\n",
    "\n",
    "### by Justin B. Kinney"
   ]
  },
  {
   "cell_type": "markdown",
   "metadata": {},
   "source": [
    "In this exercise we will use Pandas to analyze the DNA replication origin data that we mapped earlier today."
   ]
  },
  {
   "cell_type": "code",
   "execution_count": null,
   "metadata": {
    "ExecuteTime": {
     "end_time": "2023-09-06T12:18:57.346826Z",
     "start_time": "2023-09-06T12:18:55.721929Z"
    }
   },
   "outputs": [],
   "source": [
    "# Always put this first\n",
    "import numpy as np\n",
    "import pandas as pd\n",
    "import matplotlib.pyplot as plt\n",
    "import seaborn as sns\n",
    "%matplotlib inline\n",
    "\n",
    "# We will later need this\n",
    "import os.path \n",
    "\n",
    "# Set seaborn style\n",
    "sns.set_style('white')"
   ]
  },
  {
   "cell_type": "markdown",
   "metadata": {},
   "source": [
    "The files we want are the X1.pileup.bed files. Let's use 'cat' to see what these files look like"
   ]
  },
  {
   "cell_type": "code",
   "execution_count": null,
   "metadata": {
    "ExecuteTime": {
     "end_time": "2023-09-06T12:19:05.010360Z",
     "start_time": "2023-09-06T12:19:04.876733Z"
    }
   },
   "outputs": [],
   "source": [
    "# Warning: won't work on Windows machines\n",
    "!head A1.pileup.bed"
   ]
  },
  {
   "cell_type": "markdown",
   "metadata": {},
   "source": [
    "This is a tab-delimited text file. This is exactly the kind of file that Pandas is designed to work with. Let's open the file up using pandas"
   ]
  },
  {
   "cell_type": "code",
   "execution_count": null,
   "metadata": {
    "ExecuteTime": {
     "end_time": "2023-09-06T12:19:07.815743Z",
     "start_time": "2023-09-06T12:19:07.619093Z"
    }
   },
   "outputs": [],
   "source": [
    "# Read file into a pandas \"data frame\"\n",
    "df = pd.read_csv('A1.pileup.bed',  \n",
    "                 names=['chromosome','start','stop','reads'], \n",
    "                 delim_whitespace=True, \n",
    "                 skiprows=2)\n",
    "\n",
    "# Show dataframe shape\n",
    "print(df.shape)"
   ]
  },
  {
   "cell_type": "code",
   "execution_count": null,
   "metadata": {
    "ExecuteTime": {
     "end_time": "2023-09-06T12:19:08.512733Z",
     "start_time": "2023-09-06T12:19:08.498259Z"
    }
   },
   "outputs": [],
   "source": [
    "# Show first 5 rows\n",
    "df.head()"
   ]
  },
  {
   "cell_type": "code",
   "execution_count": null,
   "metadata": {
    "ExecuteTime": {
     "end_time": "2023-09-06T12:19:09.234546Z",
     "start_time": "2023-09-06T12:19:09.227861Z"
    }
   },
   "outputs": [],
   "source": [
    "# Check the last 5 rows of the dataframe\n",
    "df.tail()"
   ]
  },
  {
   "cell_type": "code",
   "execution_count": null,
   "metadata": {
    "ExecuteTime": {
     "end_time": "2023-09-06T12:19:10.060520Z",
     "start_time": "2023-09-06T12:19:10.014484Z"
    }
   },
   "outputs": [],
   "source": [
    "# Extract values for chromosome IV only. \n",
    "chrom_we_want = 'chrIV'\n",
    "flags = (df['chromosome']==chrom_we_want)\n",
    "chr4_df = df[flags]\n",
    "print('chr4_df has %d rows'%len(chr4_df))\n",
    "chr4_df.head()"
   ]
  },
  {
   "cell_type": "code",
   "execution_count": null,
   "metadata": {
    "ExecuteTime": {
     "end_time": "2023-09-06T12:19:10.754679Z",
     "start_time": "2023-09-06T12:19:10.749110Z"
    }
   },
   "outputs": [],
   "source": [
    "# Compute read length\n",
    "read_length = df.loc[0,'stop'] - df.loc[0,'start'] + 1\n",
    "print(read_length)"
   ]
  },
  {
   "cell_type": "markdown",
   "metadata": {},
   "source": [
    "Now let's plot these number of reads across the chromosome."
   ]
  },
  {
   "cell_type": "code",
   "execution_count": null,
   "metadata": {
    "ExecuteTime": {
     "end_time": "2023-09-06T12:19:12.187682Z",
     "start_time": "2023-09-06T12:19:11.920011Z"
    }
   },
   "outputs": [],
   "source": [
    "# Extract vectors of starts, stops, and number of reads\n",
    "starts = chr4_df['start']\n",
    "stops = chr4_df['stop']\n",
    "num_reads = chr4_df['reads']\n",
    "\n",
    "# Plot the starts\n",
    "plt.plot(starts, num_reads)"
   ]
  },
  {
   "cell_type": "markdown",
   "metadata": {},
   "source": [
    "Well, this kinda looks right. But we're too far away to see what's going on well. Let's zoom in"
   ]
  },
  {
   "cell_type": "code",
   "execution_count": null,
   "metadata": {
    "ExecuteTime": {
     "end_time": "2023-09-06T12:19:13.192745Z",
     "start_time": "2023-09-06T12:19:13.069563Z"
    }
   },
   "outputs": [],
   "source": [
    "# Zoom in to region between 400K and 500k\n",
    "zoom_indices = (starts > 4E5) & (starts < 5E5)\n",
    "plt.plot(starts[zoom_indices], num_reads[zoom_indices])"
   ]
  },
  {
   "cell_type": "markdown",
   "metadata": {},
   "source": [
    "It's becomming clear that, in order to make sense of this data, we're going to need to smooth it. How do we do that? Fortunately, SciPy contains tons of routines for signal processing like this. "
   ]
  },
  {
   "cell_type": "code",
   "execution_count": null,
   "metadata": {
    "ExecuteTime": {
     "end_time": "2023-09-06T12:19:14.227527Z",
     "start_time": "2023-09-06T12:19:14.221777Z"
    }
   },
   "outputs": [],
   "source": [
    "# Create a \"kernel\" with which to smooth the data\n",
    "# from experience, 6 kb is a nice window size\n",
    "window_bp = 6000\n",
    "read_length = 31\n",
    "window_size = window_bp//read_length\n",
    "print(window_size)"
   ]
  },
  {
   "cell_type": "code",
   "execution_count": null,
   "metadata": {
    "ExecuteTime": {
     "end_time": "2023-09-06T12:19:14.802928Z",
     "start_time": "2023-09-06T12:19:14.798642Z"
    }
   },
   "outputs": [],
   "source": [
    "# Create a window kernel so that all elements sum to 1\n",
    "window = np.ones(window_size)/window_size\n",
    "\n",
    "# Make sure that the window is properly normalized\n",
    "sum(window)"
   ]
  },
  {
   "cell_type": "code",
   "execution_count": null,
   "metadata": {
    "ExecuteTime": {
     "end_time": "2023-09-06T12:19:15.214639Z",
     "start_time": "2023-09-06T12:19:15.021764Z"
    }
   },
   "outputs": [],
   "source": [
    "from scipy.signal import convolve\n",
    "\n",
    "# Smooth the data by convolving the window with the read counts\n",
    "smooth_reads = convolve(num_reads,window,'same')"
   ]
  },
  {
   "cell_type": "code",
   "execution_count": null,
   "metadata": {
    "ExecuteTime": {
     "end_time": "2023-09-06T12:19:15.520858Z",
     "start_time": "2023-09-06T12:19:15.396810Z"
    }
   },
   "outputs": [],
   "source": [
    "plt.plot(starts[zoom_indices], num_reads[zoom_indices])\n",
    "plt.plot(starts[zoom_indices], smooth_reads[zoom_indices])"
   ]
  },
  {
   "cell_type": "markdown",
   "metadata": {},
   "source": [
    "Hm, this is a bit hard to see. Let's clairfy the plot."
   ]
  },
  {
   "cell_type": "code",
   "execution_count": null,
   "metadata": {
    "ExecuteTime": {
     "end_time": "2023-09-06T12:19:19.780294Z",
     "start_time": "2023-09-06T12:19:19.654724Z"
    },
    "scrolled": true
   },
   "outputs": [],
   "source": [
    "plt.plot(starts[zoom_indices], num_reads[zoom_indices], color='orange')\n",
    "plt.plot(starts[zoom_indices], smooth_reads[zoom_indices], color='lightblue', linewidth=3)"
   ]
  },
  {
   "cell_type": "markdown",
   "metadata": {},
   "source": [
    "Great. Now let's make a chromosome-wide replication profile. Let's also put a little effort into making it look pretty. "
   ]
  },
  {
   "cell_type": "code",
   "execution_count": null,
   "metadata": {
    "ExecuteTime": {
     "end_time": "2023-09-06T12:19:22.767142Z",
     "start_time": "2023-09-06T12:19:22.561624Z"
    }
   },
   "outputs": [],
   "source": [
    "# Easier to discuss genomic positions in kb\n",
    "kb = 1E3\n",
    "x = 0.5*(starts+stops)/kb\n",
    "L = max(x)\n",
    "\n",
    "figure_size = [20,2.5]\n",
    "label_size = 16\n",
    "title_size = 20\n",
    "plt.figure(figsize=figure_size)\n",
    "\n",
    "# Plot\n",
    "plt.fill_between(x, smooth_reads, color='black')\n",
    "\n",
    "# Place tick marks on x axis ever 200 kb\n",
    "plt.xticks(np.arange(0, L, 200), fontsize=label_size)\n",
    "\n",
    "# Fit plot to precisely the width of the chromosome\n",
    "plt.xlim([min(x), max(x)])\n",
    "\n",
    "# Choose ylims too\n",
    "plt.ylim(0,max(smooth_reads*1.2))\n",
    "\n",
    "# Turn off box\n",
    "plt.box(False)\n",
    "\n",
    "# No need to show ticks on the y axes\n",
    "plt.yticks([])\n",
    "\n",
    "# Add some text annotation, telling the user\n",
    "plt.title('DNA replication profile', fontsize=title_size)\n",
    "plt.xlabel(chrom_we_want + ' position (kb)', fontsize=label_size)\n",
    "\n",
    "# Fix spacing\n",
    "plt.tight_layout()\n",
    "\n",
    "file_name = '5_dnareplication_1.png'\n",
    "plt.savefig(file_name)\n",
    "\n",
    "plt.show()"
   ]
  },
  {
   "cell_type": "markdown",
   "metadata": {},
   "source": [
    "Great! With this smoothed data we can go ahead and identify peaks in the replicaiton profile, measure their width, height, etc. "
   ]
  },
  {
   "cell_type": "code",
   "execution_count": null,
   "metadata": {
    "ExecuteTime": {
     "end_time": "2023-09-06T12:19:26.905665Z",
     "start_time": "2023-09-06T12:19:26.767015Z"
    }
   },
   "outputs": [],
   "source": [
    "# WARNING: Won't work on windows machines\n",
    "!ls -lah"
   ]
  },
  {
   "cell_type": "code",
   "execution_count": null,
   "metadata": {
    "ExecuteTime": {
     "end_time": "2023-09-06T12:19:29.798099Z",
     "start_time": "2023-09-06T12:19:29.551704Z"
    }
   },
   "outputs": [],
   "source": [
    "!open $file_name"
   ]
  },
  {
   "cell_type": "markdown",
   "metadata": {},
   "source": [
    "Now let's write a function that will load and smooth the profile from any chromosome we want"
   ]
  },
  {
   "cell_type": "code",
   "execution_count": null,
   "metadata": {
    "ExecuteTime": {
     "end_time": "2023-09-06T12:19:37.355002Z",
     "start_time": "2023-09-06T12:19:37.346062Z"
    },
    "code_folding": []
   },
   "outputs": [],
   "source": [
    "def load_and_smooth_profile(file_name, chrom_we_want, window_bp=6000):\n",
    "    \"\"\"\n",
    "    Load a smooth a replication profile.\n",
    "    \n",
    "    Arguments:\n",
    "        file_name -- name of a bed file containing the data\n",
    "        chrom_we_want -- chromosome name in Roman numerals: chrI, ..., chrXVI\n",
    "        window_bp -- length of smoothing window in bp\n",
    "    \n",
    "    Returns:\n",
    "        centers -- location of bin centers along the chromosome\n",
    "        smooth_reads -- smoothed number of reads in each bin\n",
    "    \"\"\"\n",
    "   \n",
    "    # Check validity of file\n",
    "    assert isinstance(file_name,str), 'file_name is not a string.'\n",
    "    assert os.path.isfile(file_name), 'file %s does not exist'%file_name\n",
    "    \n",
    "    # Read file into dataframe \n",
    "    df = pd.read_csv(file_name,  \n",
    "                 names=['chromosome','start','stop','reads'], \n",
    "                 delim_whitespace=True, \n",
    "                 skiprows=2)\n",
    "    \n",
    "    # Check validity of chromosome\n",
    "    assert isinstance(chrom_we_want, str), 'chrom_we_want is not a string'\n",
    "    assert chrom_we_want in set(df['chromosome']), \\\n",
    "        'chrom_we_want value %s not found in data frame.'%chrom_we_want\n",
    "        \n",
    "    # Check validity of window_bp\n",
    "    assert isinstance(window_bp, int), \"window_bp is not an integer.\"\n",
    "    assert window_bp > 0, \"nonpositive window_bp value of %d\"%window_bp\n",
    "    \n",
    "    # Choose rows to look at\n",
    "    indices = (df['chromosome']==chrom_we_want)\n",
    "    \n",
    "    # Extract read_lenght, num_reads and centers\n",
    "    chr_df = df[indices]\n",
    "    num_reads = chr_df['reads']\n",
    "    starts = chr_df['start']\n",
    "    stops = chr_df['stop']\n",
    "    centers = 0.5*(starts + stops)\n",
    "    \n",
    "    # Create convolution window\n",
    "    read_length = df.loc[0,'stop'] - df.loc[0,'start'] + 1\n",
    "    window_size = window_bp//read_length\n",
    "    window = np.ones(window_size)/window_size\n",
    "    \n",
    "    # Smooth read counts\n",
    "    smooth_reads = convolve(num_reads,window,'same')\n",
    "    \n",
    "    # Now return results\n",
    "    return centers, smooth_reads"
   ]
  },
  {
   "cell_type": "code",
   "execution_count": null,
   "metadata": {
    "ExecuteTime": {
     "end_time": "2023-09-06T12:19:37.792666Z",
     "start_time": "2023-09-06T12:19:37.782042Z"
    },
    "code_folding": []
   },
   "outputs": [],
   "source": [
    "def plot_profile(centers, \n",
    "                 smooth_reads,  \n",
    "                 title='', \n",
    "                 kbspacing=200, \n",
    "                 color=[0, .5, 1]):\n",
    "    \"\"\"\n",
    "    Plot a replication profile\n",
    "    \n",
    "    Arguments:\n",
    "        centers -- numpy array of bin locations\n",
    "        smooth_reads -- numpy array of smoothed read counts; same length as centers\n",
    "        title -- title for plot\n",
    "        kbspacing -- tick mark spaking in kilobases\n",
    "        color -- color of plot\n",
    "    \"\"\"\n",
    "    \n",
    "    assert len(centers)==len(smooth_reads), \"centers and smooth_reads are not the same length.\"\n",
    "    assert isinstance(title,str), \"title is not a string\"\n",
    "    assert isinstance(kbspacing,int), \"kbspacing is not an int\"\n",
    "    assert kbspacing > 0, \"nonpositive kbspacing value of %d\"%kbspacing\n",
    "    \n",
    "    # Easier to discuss genomic positions in kb\n",
    "    kb = 1E3\n",
    "    x = centers/kb\n",
    "    L = max(x)\n",
    "    \n",
    "    label_size = 16\n",
    "    \n",
    "    # Plot\n",
    "    plt.fill_between(x, smooth_reads, color=color)\n",
    "\n",
    "    # Place tick marks on x axis ever 200 kb\n",
    "    plt.xticks(np.arange(0,L,kbspacing), fontsize=label_size)\n",
    "    \n",
    "    # Fit plot to precisely the width of the chromosome\n",
    "    plt.xlim([min(x), max(x)])\n",
    "    \n",
    "    # Turn off box\n",
    "    plt.box(False)\n",
    "    \n",
    "    # No need to show ticks on the y axes\n",
    "    plt.yticks([])\n",
    "    \n",
    "    # Add some text annotation, telling the user\n",
    "    plt.title(title, fontsize=label_size)\n",
    "    plt.xlabel('position (in kb)', fontsize=label_size)\n",
    "    "
   ]
  },
  {
   "cell_type": "code",
   "execution_count": null,
   "metadata": {
    "ExecuteTime": {
     "end_time": "2023-09-06T12:19:39.200224Z",
     "start_time": "2023-09-06T12:19:38.903231Z"
    }
   },
   "outputs": [],
   "source": [
    "# Test these functions\n",
    "plt.figure(figsize=[10,2])\n",
    "ctrs, rds = load_and_smooth_profile('A1.pileup.bed', chrom_we_want)\n",
    "plot_profile(ctrs, rds, title='sample A', color='green')\n",
    "plt.tight_layout()"
   ]
  },
  {
   "cell_type": "markdown",
   "metadata": {},
   "source": [
    "## Exercise"
   ]
  },
  {
   "cell_type": "markdown",
   "metadata": {},
   "source": [
    "**E5.1.** Using `load_and_smooth_profile()` and `plot_profile()`, fill in code in the subsequent cell to plot four replication profiles in a single figure, using the specified colors."
   ]
  },
  {
   "cell_type": "code",
   "execution_count": null,
   "metadata": {
    "ExecuteTime": {
     "end_time": "2023-09-06T12:19:48.827841Z",
     "start_time": "2023-09-06T12:19:48.292170Z"
    }
   },
   "outputs": [],
   "source": [
    "# Plot 4 replication profiles\n",
    "plt.figure(figsize=[20,5])\n",
    "\n",
    "# Chromosome to focus on\n",
    "chrom_we_want = 'chrII'\n",
    "\n",
    "# Names of samples\n",
    "samples = ['A','B','C','D']\n",
    "\n",
    "# Define colors\n",
    "colors = ['tab:blue', 'tab:orange', 'tab:green', 'tab:purple']\n",
    "\n",
    "# Look over each sample\n",
    "for i, (sample, color) in enumerate(zip(samples, colors)):\n",
    "\n",
    "    ### Answer here -- Specify file name, then load centers and smoothed counts\n",
    "    \n",
    "    # Create axes on which to plot \n",
    "    plt.subplot(2,2,i+1)\n",
    "    \n",
    "    ### Answer here -- Plot profile here\n",
    "\n",
    "# Fix layout\n",
    "plt.tight_layout(w_pad=5, h_pad=2)\n",
    "\n",
    "# Save \n",
    "file_name = '5_dnareplication_2.png'\n",
    "plt.savefig(file_name)\n",
    "\n",
    "# Show plot\n",
    "plt.show()\n",
    "\n",
    "# Open figure in another applicaiton\n",
    "!open $file_name"
   ]
  },
  {
   "cell_type": "markdown",
   "metadata": {},
   "source": [
    "Done."
   ]
  }
 ],
 "metadata": {
  "kernelspec": {
   "display_name": "base",
   "language": "python",
   "name": "base"
  },
  "language_info": {
   "codemirror_mode": {
    "name": "ipython",
    "version": 3
   },
   "file_extension": ".py",
   "mimetype": "text/x-python",
   "name": "python",
   "nbconvert_exporter": "python",
   "pygments_lexer": "ipython3",
   "version": "3.11.4"
  },
  "varInspector": {
   "cols": {
    "lenName": 16,
    "lenType": 16,
    "lenVar": 40
   },
   "kernels_config": {
    "python": {
     "delete_cmd_postfix": "",
     "delete_cmd_prefix": "del ",
     "library": "var_list.py",
     "varRefreshCmd": "print(var_dic_list())"
    },
    "r": {
     "delete_cmd_postfix": ") ",
     "delete_cmd_prefix": "rm(",
     "library": "var_list.r",
     "varRefreshCmd": "cat(var_dic_list()) "
    }
   },
   "types_to_exclude": [
    "module",
    "function",
    "builtin_function_or_method",
    "instance",
    "_Feature"
   ],
   "window_display": false
  }
 },
 "nbformat": 4,
 "nbformat_minor": 1
}
