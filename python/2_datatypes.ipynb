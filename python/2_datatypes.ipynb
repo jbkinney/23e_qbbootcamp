{
 "cells": [
  {
   "cell_type": "markdown",
   "metadata": {},
   "source": [
    "# Notebook 2: Data types"
   ]
  },
  {
   "cell_type": "markdown",
   "metadata": {},
   "source": [
    "This notebook will introduce basic Python data types and data structures:\n",
    "-  Numbers (integers, floats, bools)\n",
    "-  Strings\n",
    "-  Lists and Tuples\n",
    "-  Dictionaries\n",
    "\n",
    "Six exercises are given (in two groups of three)."
   ]
  },
  {
   "cell_type": "code",
   "execution_count": null,
   "metadata": {
    "ExecuteTime": {
     "end_time": "2023-09-05T16:00:25.658216Z",
     "start_time": "2023-09-05T16:00:25.234785Z"
    }
   },
   "outputs": [],
   "source": [
    "# Import the usual stuff first\n",
    "import numpy as np\n",
    "import pandas as pd\n",
    "import matplotlib.pyplot as plt        \n",
    "%matplotlib inline"
   ]
  },
  {
   "cell_type": "markdown",
   "metadata": {},
   "source": [
    "## Numbers"
   ]
  },
  {
   "cell_type": "code",
   "execution_count": null,
   "metadata": {
    "ExecuteTime": {
     "end_time": "2023-09-05T16:00:26.738492Z",
     "start_time": "2023-09-05T16:00:26.733514Z"
    }
   },
   "outputs": [],
   "source": [
    "# Integers\n",
    "radius = 2\n",
    "print('radius =', radius)\n",
    "print('radius has type:', type(radius))"
   ]
  },
  {
   "cell_type": "code",
   "execution_count": null,
   "metadata": {
    "ExecuteTime": {
     "end_time": "2023-09-05T16:00:27.637029Z",
     "start_time": "2023-09-05T16:00:27.632068Z"
    }
   },
   "outputs": [],
   "source": [
    "# Floating point numbers\n",
    "print('pi =', np.pi)\n",
    "print('pi has type:', type(np.pi))"
   ]
  },
  {
   "cell_type": "code",
   "execution_count": null,
   "metadata": {
    "ExecuteTime": {
     "end_time": "2023-09-05T16:00:28.556292Z",
     "start_time": "2023-09-05T16:00:28.552141Z"
    }
   },
   "outputs": [],
   "source": [
    "# Powers are computed using **, not ^. Otherwise, math is as you would expect.\n",
    "sphere_volume = (4/3)*np.pi*(radius**3)\n",
    "print('A sphere of radius', radius, 'has volume', sphere_volume)"
   ]
  },
  {
   "cell_type": "code",
   "execution_count": null,
   "metadata": {
    "ExecuteTime": {
     "end_time": "2023-09-05T16:00:29.279119Z",
     "start_time": "2023-09-05T16:00:29.274674Z"
    }
   },
   "outputs": [],
   "source": [
    "# Boolean variables represent quantities that are True or False\n",
    "x = (np.pi == 3)\n",
    "print('pi == 3 is', x)\n",
    "y = (np.pi > 3)\n",
    "print('pi > 3 is', y)\n",
    "z = (np.pi <= 3)\n",
    "print('pi <= 3 is', z)"
   ]
  },
  {
   "cell_type": "markdown",
   "metadata": {},
   "source": [
    "## Strings"
   ]
  },
  {
   "cell_type": "code",
   "execution_count": null,
   "metadata": {
    "ExecuteTime": {
     "end_time": "2023-09-05T16:00:31.779268Z",
     "start_time": "2023-09-05T16:00:31.775648Z"
    }
   },
   "outputs": [],
   "source": [
    "# Strings can be defined using either single or double quotes\n",
    "first_name = 'Barbara'\n",
    "last_name = \"McClintock\"\n",
    "print(first_name, last_name)"
   ]
  },
  {
   "cell_type": "code",
   "execution_count": null,
   "metadata": {
    "ExecuteTime": {
     "end_time": "2023-09-05T16:00:32.479501Z",
     "start_time": "2023-09-05T16:00:32.476103Z"
    }
   },
   "outputs": [],
   "source": [
    "# Multiline strings can be defined using triple quotes (single or double)\n",
    "address = \"\"\"\n",
    "Cold Spring Harbor Laboratory\n",
    "1 Bungtown Rd.\n",
    "Cold Spring Harbor, NY 11724\n",
    "\"\"\"\n",
    "print(address)"
   ]
  },
  {
   "cell_type": "code",
   "execution_count": null,
   "metadata": {
    "ExecuteTime": {
     "end_time": "2023-09-05T16:00:33.804832Z",
     "start_time": "2023-09-05T16:00:33.801044Z"
    }
   },
   "outputs": [],
   "source": [
    "# The '+' sign concatenates strings\n",
    "full_name = last_name + ', ' + first_name\n",
    "print(full_name)"
   ]
  },
  {
   "cell_type": "code",
   "execution_count": null,
   "metadata": {
    "ExecuteTime": {
     "end_time": "2023-09-05T16:00:34.400714Z",
     "start_time": "2023-09-05T16:00:34.395775Z"
    }
   },
   "outputs": [],
   "source": [
    "# It is simple to test if one string is contained within another\n",
    "'Barb' in full_name"
   ]
  },
  {
   "cell_type": "code",
   "execution_count": null,
   "metadata": {
    "ExecuteTime": {
     "end_time": "2023-09-05T16:00:35.108676Z",
     "start_time": "2023-09-05T16:00:35.102350Z"
    }
   },
   "outputs": [],
   "source": [
    "# The len() function tells you the length of a string\n",
    "len(full_name)"
   ]
  },
  {
   "cell_type": "code",
   "execution_count": null,
   "metadata": {
    "ExecuteTime": {
     "end_time": "2023-09-05T16:00:36.540737Z",
     "start_time": "2023-09-05T16:00:36.533641Z"
    }
   },
   "outputs": [],
   "source": [
    "# The contents in a string can be indexed using brackets\n",
    "print('First character:', full_name[0])         # strings are index starting at 0\n",
    "print('Last character:', full_name[-1])         # str[-n] returns the n'th character from the end.\n",
    "print('Characters 5-7:', full_name[5:7])        # str[start:stop]. This is called a 'slice'.\n",
    "print('Every other character:', full_name[::2]) # str[start:stop:stride]\n",
    "print('Reverse the string:', full_name[::-1])    # strings can be reversed using a stride of -1"
   ]
  },
  {
   "cell_type": "code",
   "execution_count": null,
   "metadata": {
    "ExecuteTime": {
     "end_time": "2023-09-05T16:00:37.033222Z",
     "start_time": "2023-09-05T16:00:37.029044Z"
    }
   },
   "outputs": [],
   "source": [
    "# You can convert from an string to an integer ...\n",
    "my_num = int('5')\n",
    "print('my_num =', my_num, '; type is', type(my_num))\n",
    "\n",
    "# ... and from an integer to a string\n",
    "my_str = str(5)\n",
    "print('my_str =', my_str, '; type is', type(my_str))"
   ]
  },
  {
   "cell_type": "markdown",
   "metadata": {},
   "source": [
    "'String formatting' allows strings to be built up from numbers, other strings, etc."
   ]
  },
  {
   "cell_type": "code",
   "execution_count": null,
   "metadata": {
    "ExecuteTime": {
     "end_time": "2023-09-05T16:00:38.346299Z",
     "start_time": "2023-09-05T16:00:38.338494Z"
    }
   },
   "outputs": [],
   "source": [
    "print(f'A float in the default format: {np.pi}')\n",
    "print(f'A float with 3 decimal places: {np.pi:.3f}')\n",
    "print(f'A float in exponential notation: {np.pi:.3e}')\n",
    "\n",
    "i = 3_628_800\n",
    "print(f'An integer, default format: {i:d}')\n",
    "print(f'An integer with commas and sign: {i:+,d}')\n",
    "\n",
    "print(f'Two strings and a number: {first_name} {last_name} loves {np.pi}')"
   ]
  },
  {
   "cell_type": "code",
   "execution_count": null,
   "metadata": {
    "ExecuteTime": {
     "end_time": "2023-09-05T16:00:42.571509Z",
     "start_time": "2023-09-05T16:00:42.567511Z"
    }
   },
   "outputs": [],
   "source": [
    "# The old string formatting method\n",
    "print('An int: %+d'%i)\n",
    "print('A float: %.2f'%np.pi)\n",
    "print('Two strings and a number: %s %s loves %f'%(first_name, last_name, np.pi))"
   ]
  },
  {
   "cell_type": "code",
   "execution_count": null,
   "metadata": {
    "ExecuteTime": {
     "end_time": "2023-09-05T16:00:43.533877Z",
     "start_time": "2023-09-05T16:00:43.530464Z"
    }
   },
   "outputs": [],
   "source": [
    "# Make a string uppercase\n",
    "print(full_name.upper())"
   ]
  },
  {
   "cell_type": "markdown",
   "metadata": {},
   "source": [
    "## Exercises, part 1 of 2"
   ]
  },
  {
   "cell_type": "markdown",
   "metadata": {},
   "source": [
    "Here is the DNA sequence of the multiple cloning site (MCS) on the plasmid [pcDNA5](https://www.addgene.org/vector-database/2132/), a popular vector for mammalian gene expression."
   ]
  },
  {
   "cell_type": "code",
   "execution_count": null,
   "metadata": {
    "ExecuteTime": {
     "end_time": "2023-09-05T16:00:45.620320Z",
     "start_time": "2023-09-05T16:00:45.616663Z"
    }
   },
   "outputs": [],
   "source": [
    "# Note how to define a long string over multiple lines\n",
    "seq = 'GAGACCCAAGCTGGCTAGCGTTTAAACTTAAGCTTGGTACCGAGCTCGGATCCACTA' \\\n",
    "      'GTCCAGTGTGGTGGAATTCTGCAGATATCCAGCACAGTGGCGGCCGCTCGAGTCTAG' \\\n",
    "      'AGGGCCCGTTTAAACCCGCTGATCAGCCT'\n",
    "print(seq)"
   ]
  },
  {
   "cell_type": "markdown",
   "metadata": {},
   "source": [
    "**E2.1**: Does this MCS contain a restriction site for NheI (GCTAGC)? How about for MscI (TGGCCA)? "
   ]
  },
  {
   "cell_type": "code",
   "execution_count": null,
   "metadata": {
    "ExecuteTime": {
     "end_time": "2023-09-05T16:00:47.027261Z",
     "start_time": "2023-09-05T16:00:47.023805Z"
    }
   },
   "outputs": [],
   "source": [
    "# Answer here"
   ]
  },
  {
   "cell_type": "markdown",
   "metadata": {},
   "source": [
    "**E2.2**: Using the string method `.find()`, find the location(s) of the above restriction sites within the MCS. What does `.find()` return when a restriction site isn't in the sequence?"
   ]
  },
  {
   "cell_type": "code",
   "execution_count": null,
   "metadata": {
    "ExecuteTime": {
     "end_time": "2023-09-05T16:00:48.187785Z",
     "start_time": "2023-09-05T16:00:48.184719Z"
    }
   },
   "outputs": [],
   "source": [
    "# Answer here"
   ]
  },
  {
   "cell_type": "markdown",
   "metadata": {},
   "source": [
    "**E2.3**: Using the string method `.replace()`, compute the RNA sequence transcribed from the GFP gene sequence (given below). "
   ]
  },
  {
   "cell_type": "code",
   "execution_count": null,
   "metadata": {
    "ExecuteTime": {
     "end_time": "2023-09-05T16:00:49.062104Z",
     "start_time": "2023-09-05T16:00:49.057368Z"
    }
   },
   "outputs": [],
   "source": [
    "gfp_seq = 'ATGAGTAAAGGAGAAGAACTTTTCACTGGAGTTGTCCCAATTCTTGTTGAATTAGATGGTGATG' \\\n",
    "          'TTAATGGGCACAAATTTTCTGTCAGTGGAGAGGGTGAAGGTGATGCAACATACGGAAAACTTAC' \\\n",
    "          'CCTTAAATTTATTTGCACTACTGGAAAACTACCTGTTCCATGGCCAACACTTGTCACTACTTTC' \\\n",
    "          'GCGTATGGTCTTCAATGCTTTGCGAGATACCCAGATCATATGAAACAGCATGACTTTTTCAAGA' \\\n",
    "          'GTGCCATGCCCGAAGGTTATGTACAGGAAAGAACTATATTTTTCAAAGATGACGGGAACTACAA' \\\n",
    "          'GACACGTGCTGAAGTCAAGTTTGAAGGTGATACCCTTGTTAATAGAATCGAGTTAAAAGGTATT' \\\n",
    "          'GATTTTAAAGAAGATGGAAACATTCTTGGACACAAATTGGAATACAACTATAACTCACACAATG' \\\n",
    "          'TATACATCATGGCAGACAAACAAAAGAATGGAATCAAAGTTAACTTCAAAATTAGACACAACAT' \\\n",
    "          'TGAAGATGGAAGCGTTCAACTAGCAGACCATTATCAACAAAATACTCCAATTGGCGATGGCCCT' \\\n",
    "          'GTCCTTTTACCAGACAACCATTACCTGTCCACACAATCTGCCCTTTCGAAAGATCCCAACGAAA' \\\n",
    "          'AGAGAGACCACATGGTCCTTCTTGAGTTTGTAACAGCTGCTGGGATTACACATGGCATGGATGA' \\\n",
    "          'ACTATACAAATAA'\n",
    "\n",
    "# Answer here"
   ]
  },
  {
   "cell_type": "markdown",
   "metadata": {},
   "source": [
    "## Lists and tuples"
   ]
  },
  {
   "cell_type": "code",
   "execution_count": null,
   "metadata": {
    "ExecuteTime": {
     "end_time": "2023-09-05T16:01:00.360712Z",
     "start_time": "2023-09-05T16:01:00.356152Z"
    }
   },
   "outputs": [],
   "source": [
    "# Define a list using brackets and commas.\n",
    "v = [1, 'two', 3.0, 'four', 5]\n",
    "v"
   ]
  },
  {
   "cell_type": "code",
   "execution_count": null,
   "metadata": {
    "ExecuteTime": {
     "end_time": "2023-09-05T16:01:01.453293Z",
     "start_time": "2023-09-05T16:01:01.447821Z"
    }
   },
   "outputs": [],
   "source": [
    "# Lists can be indexed using brackets just like strings can.\n",
    "print(f'First element: {v[0]}')\n",
    "print(f'Last element: {v[-1]}')\n",
    "print(f'The list reversed: {v[::-1]}')"
   ]
  },
  {
   "cell_type": "code",
   "execution_count": null,
   "metadata": {
    "ExecuteTime": {
     "end_time": "2023-09-05T16:01:01.945886Z",
     "start_time": "2023-09-05T16:01:01.941282Z"
    }
   },
   "outputs": [],
   "source": [
    "# Use 'in' to test whether an element is contained in a list.\n",
    "'four' in v"
   ]
  },
  {
   "cell_type": "code",
   "execution_count": null,
   "metadata": {
    "ExecuteTime": {
     "end_time": "2023-09-05T16:01:02.363622Z",
     "start_time": "2023-09-05T16:01:02.357260Z"
    }
   },
   "outputs": [],
   "source": [
    "# Change an element in a list.\n",
    "print(f'Before: {v}')\n",
    "v[0] = 'one'\n",
    "print(f'After: {v}')"
   ]
  },
  {
   "cell_type": "code",
   "execution_count": null,
   "metadata": {
    "ExecuteTime": {
     "end_time": "2023-09-05T16:01:02.793214Z",
     "start_time": "2023-09-05T16:01:02.787156Z"
    }
   },
   "outputs": [],
   "source": [
    "# Append an element to the end of a list.\n",
    "print(f'Before: {v}')\n",
    "v.append('five')\n",
    "print(f'After: {v}')"
   ]
  },
  {
   "cell_type": "code",
   "execution_count": null,
   "metadata": {
    "ExecuteTime": {
     "end_time": "2023-09-05T16:01:03.459512Z",
     "start_time": "2023-09-05T16:01:03.339495Z"
    }
   },
   "outputs": [],
   "source": [
    "# You get an error if you try to access an index that doesn't exist.\n",
    "v[10]"
   ]
  },
  {
   "cell_type": "code",
   "execution_count": null,
   "metadata": {
    "ExecuteTime": {
     "end_time": "2023-09-05T16:01:03.730066Z",
     "start_time": "2023-09-05T16:01:03.706035Z"
    }
   },
   "outputs": [],
   "source": [
    "# You also get an error if you pass a non-integer as an index.\n",
    "v[4.0]"
   ]
  },
  {
   "cell_type": "code",
   "execution_count": null,
   "metadata": {
    "ExecuteTime": {
     "end_time": "2023-09-05T16:01:05.526105Z",
     "start_time": "2023-09-05T16:01:05.520605Z"
    }
   },
   "outputs": [],
   "source": [
    "# To create a list of numbers from 0 to n, use list(range(n))\n",
    "v = list(range(10))\n",
    "v"
   ]
  },
  {
   "cell_type": "code",
   "execution_count": null,
   "metadata": {
    "ExecuteTime": {
     "end_time": "2023-09-05T16:01:05.978455Z",
     "start_time": "2023-09-05T16:01:05.971257Z"
    }
   },
   "outputs": [],
   "source": [
    "# Sort a list of numbers\n",
    "v = [0,2,4,6,8,1,3,5,7,9]\n",
    "print(f'Before sorting: {v}')\n",
    "v.sort()\n",
    "print(f'After sorting: {v}')"
   ]
  },
  {
   "cell_type": "code",
   "execution_count": null,
   "metadata": {
    "ExecuteTime": {
     "end_time": "2023-09-05T16:01:06.502522Z",
     "start_time": "2023-09-05T16:01:06.497624Z"
    }
   },
   "outputs": [],
   "source": [
    "# Tuples are like lists, though they are defined using parentheses instead of brackets.\n",
    "# Functions often pass tuples (not lists) back to the user.\n",
    "t = (0, 1, 2, 3, 4)\n",
    "print(t)"
   ]
  },
  {
   "cell_type": "code",
   "execution_count": null,
   "metadata": {
    "ExecuteTime": {
     "end_time": "2023-09-05T16:01:06.965140Z",
     "start_time": "2023-09-05T16:01:06.940101Z"
    }
   },
   "outputs": [],
   "source": [
    "# The key difference is that, while lists are \"mutable\", tuples are \"immutable\"\n",
    "# i.e., you cannot change an element in a tuple after it has been created.\n",
    "t[3] = 5"
   ]
  },
  {
   "cell_type": "code",
   "execution_count": null,
   "metadata": {
    "ExecuteTime": {
     "end_time": "2023-09-05T16:01:07.439990Z",
     "start_time": "2023-09-05T16:01:07.434076Z"
    }
   },
   "outputs": [],
   "source": [
    "# You can join multiple strings together, separating them with a specified character,\n",
    "# using the .join() string method\n",
    "v = [\"Dr.\", \"Barbara\", \"McClintock\"]\n",
    "s = ' '.join(v)\n",
    "print(s)"
   ]
  },
  {
   "cell_type": "code",
   "execution_count": null,
   "metadata": {
    "ExecuteTime": {
     "end_time": "2023-09-05T16:01:17.140061Z",
     "start_time": "2023-09-05T16:01:17.134256Z"
    }
   },
   "outputs": [],
   "source": [
    "# Use the split() string method to chop a string into a list at a specific character\n",
    "s = 'github.com/jkinney/github/23_qbbootcamp/2_datatypes.ipynb'\n",
    "v = s.split('/')\n",
    "v"
   ]
  },
  {
   "cell_type": "markdown",
   "metadata": {},
   "source": [
    "## Dictionaries"
   ]
  },
  {
   "cell_type": "markdown",
   "metadata": {},
   "source": [
    "Dictionaries are one of Python's most useful datatypes. They can be thought of as a list of key-value pairs that allow values to be rapidly looked up via keys. Keys can be any (immutable) variable. Values can be anything."
   ]
  },
  {
   "cell_type": "code",
   "execution_count": null,
   "metadata": {
    "ExecuteTime": {
     "end_time": "2023-09-05T16:01:20.412429Z",
     "start_time": "2023-09-05T16:01:20.409374Z"
    }
   },
   "outputs": [],
   "source": [
    "# Dictionaries are defined using braces, colons, and commas\n",
    "d = {'first':'Eleanor', 'last':'McClintock'}\n",
    "print(d)"
   ]
  },
  {
   "cell_type": "code",
   "execution_count": null,
   "metadata": {
    "ExecuteTime": {
     "end_time": "2023-09-05T16:01:21.347947Z",
     "start_time": "2023-09-05T16:01:21.344763Z"
    }
   },
   "outputs": [],
   "source": [
    "# Access dictionary elements using a \"key\" enclosed in brackets\n",
    "print(d['first'])"
   ]
  },
  {
   "cell_type": "code",
   "execution_count": null,
   "metadata": {
    "ExecuteTime": {
     "end_time": "2023-09-05T16:01:21.964930Z",
     "start_time": "2023-09-05T16:01:21.960760Z"
    }
   },
   "outputs": [],
   "source": [
    "# You can replace and add elements to a dictionary after it is created.\n",
    "d['first'] = 'Barbara'\n",
    "d['title'] = 'Dr.'\n",
    "print(d)"
   ]
  },
  {
   "cell_type": "code",
   "execution_count": null,
   "metadata": {
    "ExecuteTime": {
     "end_time": "2023-09-05T16:01:22.378763Z",
     "start_time": "2023-09-05T16:01:22.369555Z"
    }
   },
   "outputs": [],
   "source": [
    "# From a dictionary, you can get a list of both the keys and the values.\n",
    "keys = list(d.keys())\n",
    "print(f'keys: {keys}')\n",
    "\n",
    "values = list(d.values())\n",
    "print(f'values: {values}')"
   ]
  },
  {
   "cell_type": "code",
   "execution_count": null,
   "metadata": {
    "ExecuteTime": {
     "end_time": "2023-09-05T16:01:23.493031Z",
     "start_time": "2023-09-05T16:01:23.469861Z"
    }
   },
   "outputs": [],
   "source": [
    "#If you pass a key that doesn't exist, you get an error.\n",
    "d['middle']"
   ]
  },
  {
   "cell_type": "code",
   "execution_count": null,
   "metadata": {
    "ExecuteTime": {
     "end_time": "2023-09-05T16:01:24.995036Z",
     "start_time": "2023-09-05T16:01:24.988281Z"
    }
   },
   "outputs": [],
   "source": [
    "# It is sometimes useful to get a default value instead of an error when a key doesn't exist\n",
    "d.get('middle','')    "
   ]
  },
  {
   "cell_type": "code",
   "execution_count": null,
   "metadata": {
    "ExecuteTime": {
     "end_time": "2023-09-05T16:01:25.970294Z",
     "start_time": "2023-09-05T16:01:25.966229Z"
    }
   },
   "outputs": [],
   "source": [
    "# You can create a dictionary from a list of keys and values by using 'dict' and 'zip'\n",
    "values = ['Dr.','Barbara','McClintock']\n",
    "keys = ['title','first','last'] \n",
    "new_dict = dict(zip(keys, values))\n",
    "print(new_dict)"
   ]
  },
  {
   "cell_type": "markdown",
   "metadata": {
    "collapsed": true
   },
   "source": [
    "## Exercises, part 2 of 2"
   ]
  },
  {
   "cell_type": "markdown",
   "metadata": {},
   "source": [
    "**E2.4**: Create a dictionary called `rc_dict` that maps DNA bases to their complementary bases. I.e., A -> T, C -> G, etc.. Then use `str.maketrans()` to convert this to a \"translation table\" named `rc_table`."
   ]
  },
  {
   "cell_type": "code",
   "execution_count": null,
   "metadata": {
    "ExecuteTime": {
     "end_time": "2023-09-05T16:01:27.188216Z",
     "start_time": "2023-09-05T16:01:27.185707Z"
    }
   },
   "outputs": [],
   "source": [
    "# Answer here"
   ]
  },
  {
   "cell_type": "markdown",
   "metadata": {},
   "source": [
    "**E2.5**: By passing `rc_table` to the string method `.translate()`, then using indexing with a step of -1, compute the reverse complement of the MCS sequence given above."
   ]
  },
  {
   "cell_type": "code",
   "execution_count": null,
   "metadata": {
    "ExecuteTime": {
     "end_time": "2023-09-05T16:01:27.882027Z",
     "start_time": "2023-09-05T16:01:27.879418Z"
    }
   },
   "outputs": [],
   "source": [
    "# Answer here"
   ]
  },
  {
   "cell_type": "markdown",
   "metadata": {},
   "source": [
    "**E2.6**: We have not yet discussed sets. Using Google, figure out what `set` objects are and explain what they represent. In particular, explain why Python evaluates {2,3,3} < {1,2,3} as True."
   ]
  },
  {
   "cell_type": "code",
   "execution_count": null,
   "metadata": {
    "ExecuteTime": {
     "end_time": "2022-08-29T12:43:23.019493Z",
     "start_time": "2022-08-29T12:43:23.016979Z"
    }
   },
   "outputs": [],
   "source": [
    "# Answer here"
   ]
  },
  {
   "cell_type": "code",
   "execution_count": null,
   "metadata": {},
   "outputs": [],
   "source": []
  }
 ],
 "metadata": {
  "kernelspec": {
   "display_name": "Python 3",
   "language": "python",
   "name": "python3"
  },
  "language_info": {
   "codemirror_mode": {
    "name": "ipython",
    "version": 3
   },
   "file_extension": ".py",
   "mimetype": "text/x-python",
   "name": "python",
   "nbconvert_exporter": "python",
   "pygments_lexer": "ipython3",
   "version": "3.9.15"
  },
  "varInspector": {
   "cols": {
    "lenName": 16,
    "lenType": 16,
    "lenVar": 40
   },
   "kernels_config": {
    "python": {
     "delete_cmd_postfix": "",
     "delete_cmd_prefix": "del ",
     "library": "var_list.py",
     "varRefreshCmd": "print(var_dic_list())"
    },
    "r": {
     "delete_cmd_postfix": ") ",
     "delete_cmd_prefix": "rm(",
     "library": "var_list.r",
     "varRefreshCmd": "cat(var_dic_list()) "
    }
   },
   "types_to_exclude": [
    "module",
    "function",
    "builtin_function_or_method",
    "instance",
    "_Feature"
   ],
   "window_display": false
  }
 },
 "nbformat": 4,
 "nbformat_minor": 1
}
