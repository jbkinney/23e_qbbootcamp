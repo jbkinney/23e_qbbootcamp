{
 "cells": [
  {
   "cell_type": "markdown",
   "metadata": {},
   "source": [
    "# Notebook 2: Data types"
   ]
  },
  {
   "cell_type": "markdown",
   "metadata": {},
   "source": [
    "This notebook will introduce basic Python data types and data structures:\n",
    "-  Numbers (integers, floats, bools)\n",
    "-  Strings\n",
    "-  Lists and Tuples\n",
    "-  Dictionaries\n",
    "\n",
    "Six exercises are given (in two groups of three)."
   ]
  },
  {
   "cell_type": "code",
   "execution_count": null,
   "metadata": {
    "ExecuteTime": {
     "end_time": "2023-09-05T10:52:19.300907Z",
     "start_time": "2023-09-05T10:52:18.864849Z"
    }
   },
   "outputs": [],
   "source": [
    "# Import the usual stuff first\n",
    "import numpy as np\n",
    "import pandas as pd\n",
    "import matplotlib.pyplot as plt        \n",
    "%matplotlib inline"
   ]
  },
  {
   "cell_type": "markdown",
   "metadata": {},
   "source": [
    "## Numbers"
   ]
  },
  {
   "cell_type": "code",
   "execution_count": null,
   "metadata": {
    "ExecuteTime": {
     "end_time": "2023-09-05T10:52:20.452320Z",
     "start_time": "2023-09-05T10:52:20.448309Z"
    }
   },
   "outputs": [],
   "source": [
    "# Integers\n",
    "radius = 2\n",
    "print('radius =', radius)\n",
    "print('radius has type:', type(radius))"
   ]
  },
  {
   "cell_type": "code",
   "execution_count": null,
   "metadata": {
    "ExecuteTime": {
     "end_time": "2023-09-05T10:52:21.576479Z",
     "start_time": "2023-09-05T10:52:21.572753Z"
    }
   },
   "outputs": [],
   "source": [
    "# Floating point numbers\n",
    "print('pi =', np.pi)\n",
    "print('pi has type:', type(np.pi))"
   ]
  },
  {
   "cell_type": "code",
   "execution_count": null,
   "metadata": {
    "ExecuteTime": {
     "end_time": "2023-09-05T10:52:22.509369Z",
     "start_time": "2023-09-05T10:52:22.503337Z"
    }
   },
   "outputs": [],
   "source": [
    "# Powers are computed using **, not ^. Otherwise, math is as you would expect.\n",
    "sphere_volume = (4/3)*np.pi*(radius**3)\n",
    "print('A sphere of radius', radius, 'has volume', sphere_volume)"
   ]
  },
  {
   "cell_type": "code",
   "execution_count": null,
   "metadata": {
    "ExecuteTime": {
     "end_time": "2023-09-05T10:52:23.084142Z",
     "start_time": "2023-09-05T10:52:23.079894Z"
    }
   },
   "outputs": [],
   "source": [
    "# Boolean variables represent quantities that are True or False\n",
    "x = (np.pi == 3)\n",
    "print('pi == 3 is', x)\n",
    "y = (np.pi > 3)\n",
    "print('pi > 3 is', y)\n",
    "z = (np.pi <= 3)\n",
    "print('pi <= 3 is', z)"
   ]
  },
  {
   "cell_type": "markdown",
   "metadata": {},
   "source": [
    "## Strings"
   ]
  },
  {
   "cell_type": "code",
   "execution_count": null,
   "metadata": {
    "ExecuteTime": {
     "end_time": "2023-09-05T10:52:24.703177Z",
     "start_time": "2023-09-05T10:52:24.699846Z"
    }
   },
   "outputs": [],
   "source": [
    "# Strings can be defined using either single or double quotes\n",
    "first_name = 'Barbara'\n",
    "last_name = \"McClintock\"\n",
    "print(first_name, last_name)"
   ]
  },
  {
   "cell_type": "code",
   "execution_count": null,
   "metadata": {
    "ExecuteTime": {
     "end_time": "2023-09-05T10:52:25.625279Z",
     "start_time": "2023-09-05T10:52:25.621634Z"
    }
   },
   "outputs": [],
   "source": [
    "# Multiline strings can be defined using triple quotes (single or double)\n",
    "address = \"\"\"\n",
    "Cold Spring Harbor Laboratory\n",
    "1 Bungtown Rd.\n",
    "Cold Spring Harbor, NY 11724\n",
    "\"\"\"\n",
    "print(address)"
   ]
  },
  {
   "cell_type": "code",
   "execution_count": null,
   "metadata": {
    "ExecuteTime": {
     "end_time": "2023-09-05T10:52:26.641854Z",
     "start_time": "2023-09-05T10:52:26.638002Z"
    }
   },
   "outputs": [],
   "source": [
    "# The '+' sign concatenates strings\n",
    "full_name = last_name + ', ' + first_name\n",
    "print(full_name)"
   ]
  },
  {
   "cell_type": "code",
   "execution_count": null,
   "metadata": {
    "ExecuteTime": {
     "end_time": "2023-09-05T10:52:27.430560Z",
     "start_time": "2023-09-05T10:52:27.424745Z"
    }
   },
   "outputs": [],
   "source": [
    "# It is simple to test if one string is contained within another\n",
    "'Barb' in full_name"
   ]
  },
  {
   "cell_type": "code",
   "execution_count": null,
   "metadata": {
    "ExecuteTime": {
     "end_time": "2023-09-05T10:52:28.068707Z",
     "start_time": "2023-09-05T10:52:28.064556Z"
    }
   },
   "outputs": [],
   "source": [
    "# The len() function tells you the length of a string\n",
    "len(full_name)"
   ]
  },
  {
   "cell_type": "code",
   "execution_count": null,
   "metadata": {
    "ExecuteTime": {
     "end_time": "2023-09-05T10:52:28.735093Z",
     "start_time": "2023-09-05T10:52:28.728659Z"
    }
   },
   "outputs": [],
   "source": [
    "# The contents in a string can be indexed using brackets\n",
    "print('First character:', full_name[0])         # strings are index starting at 0\n",
    "print('Last character:', full_name[-1])         # str[-n] returns the n'th character from the end.\n",
    "print('Characters 5-7:', full_name[5:7])        # str[start:stop]. This is called a 'slice'.\n",
    "print('Every other character:', full_name[::2]) # str[start:stop:stride]\n",
    "print('Reverse the string:', full_name[::-1])    # strings can be reversed using a stride of -1"
   ]
  },
  {
   "cell_type": "code",
   "execution_count": null,
   "metadata": {
    "ExecuteTime": {
     "end_time": "2023-09-05T10:52:29.713841Z",
     "start_time": "2023-09-05T10:52:29.709618Z"
    }
   },
   "outputs": [],
   "source": [
    "# You can convert from an string to an integer ...\n",
    "my_num = int('5')\n",
    "print('my_num =', my_num, '; type is', type(my_num))\n",
    "\n",
    "# ... and from an integer to a string\n",
    "my_str = str(5)\n",
    "print('my_str =', my_str, '; type is', type(my_str))"
   ]
  },
  {
   "cell_type": "markdown",
   "metadata": {},
   "source": [
    "'String formatting' allows strings to be built up from numbers, other strings, etc."
   ]
  },
  {
   "cell_type": "code",
   "execution_count": null,
   "metadata": {
    "ExecuteTime": {
     "end_time": "2023-09-05T10:52:31.521596Z",
     "start_time": "2023-09-05T10:52:31.514078Z"
    }
   },
   "outputs": [],
   "source": [
    "print(f'A float in the default format: {np.pi}')\n",
    "print(f'A float with 3 decimal places: {np.pi:.3f}')\n",
    "print(f'A float in exponential notation: {np.pi:.3e}')\n",
    "\n",
    "i = 3_628_800\n",
    "print(f'An integer, default format: {i:d}')\n",
    "print(f'An integer with commas and sign: {i:+,d}')\n",
    "\n",
    "print(f'Two strings and a number: {first_name} {last_name} loves {np.pi}')"
   ]
  },
  {
   "cell_type": "code",
   "execution_count": null,
   "metadata": {
    "ExecuteTime": {
     "end_time": "2023-09-05T10:52:32.624079Z",
     "start_time": "2023-09-05T10:52:32.620410Z"
    }
   },
   "outputs": [],
   "source": [
    "# The old string formatting method\n",
    "print('An int: %+d'%i)\n",
    "print('A float: %.2f'%np.pi)\n",
    "print('Two strings and a number: %s %s loves %f'%(first_name, last_name, np.pi))"
   ]
  },
  {
   "cell_type": "code",
   "execution_count": null,
   "metadata": {
    "ExecuteTime": {
     "end_time": "2023-09-05T10:52:33.364893Z",
     "start_time": "2023-09-05T10:52:33.361876Z"
    }
   },
   "outputs": [],
   "source": [
    "# Make a string uppercase\n",
    "print(full_name.upper())"
   ]
  },
  {
   "cell_type": "markdown",
   "metadata": {},
   "source": [
    "## Exercises, part 1 of 2"
   ]
  },
  {
   "cell_type": "markdown",
   "metadata": {},
   "source": [
    "Here is the DNA sequence of the multiple cloning site (MCS) on the plasmid [pcDNA5](https://www.addgene.org/vector-database/2132/), a popular vector for mammalian gene expression."
   ]
  },
  {
   "cell_type": "code",
   "execution_count": null,
   "metadata": {
    "ExecuteTime": {
     "end_time": "2023-09-05T10:52:35.616221Z",
     "start_time": "2023-09-05T10:52:35.612818Z"
    }
   },
   "outputs": [],
   "source": [
    "# Note how to define a long string over multiple lines\n",
    "seq = 'GAGACCCAAGCTGGCTAGCGTTTAAACTTAAGCTTGGTACCGAGCTCGGATCCACTA' \\\n",
    "      'GTCCAGTGTGGTGGAATTCTGCAGATATCCAGCACAGTGGCGGCCGCTCGAGTCTAG' \\\n",
    "      'AGGGCCCGTTTAAACCCGCTGATCAGCCT'\n",
    "print(seq)"
   ]
  },
  {
   "cell_type": "markdown",
   "metadata": {},
   "source": [
    "**E2.1**: Does this MCS contain a restriction site for NheI (GCTAGC)? How about for MscI (TGGCCA)? "
   ]
  },
  {
   "cell_type": "code",
   "execution_count": null,
   "metadata": {
    "ExecuteTime": {
     "end_time": "2023-09-05T10:52:37.225208Z",
     "start_time": "2023-09-05T10:52:37.222276Z"
    }
   },
   "outputs": [],
   "source": [
    "# Answer here"
   ]
  },
  {
   "cell_type": "markdown",
   "metadata": {},
   "source": [
    "**E2.2**: Using the string method `.find()`, find the location(s) of the above restriction sites within the MCS. What does `.find()` return when a restriction site isn't in the sequence?"
   ]
  },
  {
   "cell_type": "code",
   "execution_count": null,
   "metadata": {
    "ExecuteTime": {
     "end_time": "2023-09-05T10:52:38.502813Z",
     "start_time": "2023-09-05T10:52:38.499146Z"
    }
   },
   "outputs": [],
   "source": [
    "# Answer here"
   ]
  },
  {
   "cell_type": "markdown",
   "metadata": {},
   "source": [
    "**E2.3**: Using the string method `.replace()`, compute the RNA sequence transcribed from the GFP gene sequence (given below). "
   ]
  },
  {
   "cell_type": "code",
   "execution_count": null,
   "metadata": {
    "ExecuteTime": {
     "end_time": "2023-09-05T10:52:40.082476Z",
     "start_time": "2023-09-05T10:52:40.079193Z"
    }
   },
   "outputs": [],
   "source": [
    "gfp_seq = 'ATGAGTAAAGGAGAAGAACTTTTCACTGGAGTTGTCCCAATTCTTGTTGAATTAGATGGTGATG' \\\n",
    "          'TTAATGGGCACAAATTTTCTGTCAGTGGAGAGGGTGAAGGTGATGCAACATACGGAAAACTTAC' \\\n",
    "          'CCTTAAATTTATTTGCACTACTGGAAAACTACCTGTTCCATGGCCAACACTTGTCACTACTTTC' \\\n",
    "          'GCGTATGGTCTTCAATGCTTTGCGAGATACCCAGATCATATGAAACAGCATGACTTTTTCAAGA' \\\n",
    "          'GTGCCATGCCCGAAGGTTATGTACAGGAAAGAACTATATTTTTCAAAGATGACGGGAACTACAA' \\\n",
    "          'GACACGTGCTGAAGTCAAGTTTGAAGGTGATACCCTTGTTAATAGAATCGAGTTAAAAGGTATT' \\\n",
    "          'GATTTTAAAGAAGATGGAAACATTCTTGGACACAAATTGGAATACAACTATAACTCACACAATG' \\\n",
    "          'TATACATCATGGCAGACAAACAAAAGAATGGAATCAAAGTTAACTTCAAAATTAGACACAACAT' \\\n",
    "          'TGAAGATGGAAGCGTTCAACTAGCAGACCATTATCAACAAAATACTCCAATTGGCGATGGCCCT' \\\n",
    "          'GTCCTTTTACCAGACAACCATTACCTGTCCACACAATCTGCCCTTTCGAAAGATCCCAACGAAA' \\\n",
    "          'AGAGAGACCACATGGTCCTTCTTGAGTTTGTAACAGCTGCTGGGATTACACATGGCATGGATGA' \\\n",
    "          'ACTATACAAATAA'\n",
    "\n",
    "# Answer here"
   ]
  },
  {
   "cell_type": "markdown",
   "metadata": {},
   "source": [
    "## Lists and tuples"
   ]
  },
  {
   "cell_type": "code",
   "execution_count": null,
   "metadata": {
    "ExecuteTime": {
     "end_time": "2023-09-05T10:52:45.337444Z",
     "start_time": "2023-09-05T10:52:45.332859Z"
    }
   },
   "outputs": [],
   "source": [
    "# Define a list using brackets and commas.\n",
    "v = [1, 'two', 3.0, 'four', 5]\n",
    "v"
   ]
  },
  {
   "cell_type": "code",
   "execution_count": null,
   "metadata": {
    "ExecuteTime": {
     "end_time": "2023-09-05T10:52:45.977297Z",
     "start_time": "2023-09-05T10:52:45.971025Z"
    }
   },
   "outputs": [],
   "source": [
    "# Lists can be indexed using brackets just like strings can.\n",
    "print(f'First element: {v[0]}')\n",
    "print(f'Last element: {v[-1]}')\n",
    "print(f'The list reversed: {v[::-1]}')"
   ]
  },
  {
   "cell_type": "code",
   "execution_count": null,
   "metadata": {
    "ExecuteTime": {
     "end_time": "2023-09-05T10:52:46.900353Z",
     "start_time": "2023-09-05T10:52:46.896264Z"
    }
   },
   "outputs": [],
   "source": [
    "# Use 'in' to test whether an element is contained in a list.\n",
    "'four' in v"
   ]
  },
  {
   "cell_type": "code",
   "execution_count": null,
   "metadata": {
    "ExecuteTime": {
     "end_time": "2023-09-05T10:52:47.585509Z",
     "start_time": "2023-09-05T10:52:47.581851Z"
    }
   },
   "outputs": [],
   "source": [
    "# Change an element in a list.\n",
    "print(f'Before: {v}')\n",
    "v[0] = 'one'\n",
    "print(f'After: {v}')"
   ]
  },
  {
   "cell_type": "code",
   "execution_count": null,
   "metadata": {
    "ExecuteTime": {
     "end_time": "2023-09-05T10:52:48.406084Z",
     "start_time": "2023-09-05T10:52:48.402647Z"
    }
   },
   "outputs": [],
   "source": [
    "# Append an element to the end of a list.\n",
    "print(f'Before: {v}')\n",
    "v.append('five')\n",
    "print(f'After: {v}')"
   ]
  },
  {
   "cell_type": "code",
   "execution_count": null,
   "metadata": {
    "ExecuteTime": {
     "end_time": "2023-09-05T10:52:49.426516Z",
     "start_time": "2023-09-05T10:52:49.304322Z"
    }
   },
   "outputs": [],
   "source": [
    "# You get an error if you try to access an index that doesn't exist.\n",
    "v[10]"
   ]
  },
  {
   "cell_type": "code",
   "execution_count": null,
   "metadata": {
    "ExecuteTime": {
     "end_time": "2023-09-05T10:52:51.279810Z",
     "start_time": "2023-09-05T10:52:51.256039Z"
    }
   },
   "outputs": [],
   "source": [
    "# You also get an error if you pass a non-integer as an index.\n",
    "v[4.0]"
   ]
  },
  {
   "cell_type": "code",
   "execution_count": null,
   "metadata": {
    "ExecuteTime": {
     "end_time": "2023-09-05T10:52:51.816501Z",
     "start_time": "2023-09-05T10:52:51.811823Z"
    }
   },
   "outputs": [],
   "source": [
    "# To create a list of numbers from 0 to n, use list(range(n))\n",
    "v = list(range(10))\n",
    "v"
   ]
  },
  {
   "cell_type": "code",
   "execution_count": null,
   "metadata": {
    "ExecuteTime": {
     "end_time": "2023-09-05T10:52:53.391509Z",
     "start_time": "2023-09-05T10:52:53.387414Z"
    }
   },
   "outputs": [],
   "source": [
    "# Sort a list of numbers\n",
    "v = [0,2,4,6,8,1,3,5,7,9]\n",
    "print(f'Before sorting: {v}')\n",
    "v.sort()\n",
    "print(f'After sorting: {v}')"
   ]
  },
  {
   "cell_type": "code",
   "execution_count": null,
   "metadata": {
    "ExecuteTime": {
     "end_time": "2023-09-05T10:52:54.166009Z",
     "start_time": "2023-09-05T10:52:54.162496Z"
    }
   },
   "outputs": [],
   "source": [
    "# Tuples are like lists, though they are defined using parentheses instead of brackets.\n",
    "# Functions often pass tuples (not lists) back to the user.\n",
    "t = (0, 1, 2, 3, 4)\n",
    "print(t)"
   ]
  },
  {
   "cell_type": "code",
   "execution_count": null,
   "metadata": {
    "ExecuteTime": {
     "end_time": "2023-09-05T10:52:55.248580Z",
     "start_time": "2023-09-05T10:52:55.224969Z"
    }
   },
   "outputs": [],
   "source": [
    "# The key difference is that, while lists are \"mutable\", tuples are \"immutable\"\n",
    "# i.e., you cannot change an element in a tuple after it has been created.\n",
    "t[3] = 5"
   ]
  },
  {
   "cell_type": "code",
   "execution_count": null,
   "metadata": {
    "ExecuteTime": {
     "end_time": "2023-09-05T10:52:57.080979Z",
     "start_time": "2023-09-05T10:52:57.077392Z"
    }
   },
   "outputs": [],
   "source": [
    "# You can join multiple strings together, separating them with a specified character,\n",
    "# using the .join() string method\n",
    "v = [\"Dr.\", \"Barbara\", \"McClintock\"]\n",
    "s = ' '.join(v)\n",
    "print(s)"
   ]
  },
  {
   "cell_type": "code",
   "execution_count": null,
   "metadata": {
    "ExecuteTime": {
     "end_time": "2023-09-05T10:52:57.924179Z",
     "start_time": "2023-09-05T10:52:57.919613Z"
    }
   },
   "outputs": [],
   "source": [
    "# Use the split() string method to chop a string into a list at a specific character\n",
    "s = 'github.com/jkinney/github/21_qbbootcamp/2_datatypes.ipynb'\n",
    "v = s.split('/')\n",
    "v"
   ]
  },
  {
   "cell_type": "markdown",
   "metadata": {},
   "source": [
    "## Dictionaries"
   ]
  },
  {
   "cell_type": "markdown",
   "metadata": {},
   "source": [
    "Dictionaries are one of Python's most useful datatypes. They can be thought of as a list of key-value pairs that allow values to be rapidly looked up via keys. Keys can be any (immutable) variable. Values can be anything."
   ]
  },
  {
   "cell_type": "code",
   "execution_count": null,
   "metadata": {
    "ExecuteTime": {
     "end_time": "2023-09-05T10:52:59.530334Z",
     "start_time": "2023-09-05T10:52:59.526878Z"
    }
   },
   "outputs": [],
   "source": [
    "# Dictionaries are defined using braces, colons, and commas\n",
    "d = {'first':'Eleanor', 'last':'McClintock'}\n",
    "print(d)"
   ]
  },
  {
   "cell_type": "code",
   "execution_count": null,
   "metadata": {
    "ExecuteTime": {
     "end_time": "2023-09-05T10:52:59.935038Z",
     "start_time": "2023-09-05T10:52:59.931071Z"
    }
   },
   "outputs": [],
   "source": [
    "# Access dictionary elements using a \"key\" enclosed in brackets\n",
    "print(d['first'])"
   ]
  },
  {
   "cell_type": "code",
   "execution_count": null,
   "metadata": {
    "ExecuteTime": {
     "end_time": "2023-09-05T10:53:00.330257Z",
     "start_time": "2023-09-05T10:53:00.324876Z"
    }
   },
   "outputs": [],
   "source": [
    "# You can replace and add elements to a dictionary after it is created.\n",
    "d['first'] = 'Barbara'\n",
    "d['title'] = 'Dr.'\n",
    "print(d)"
   ]
  },
  {
   "cell_type": "code",
   "execution_count": null,
   "metadata": {
    "ExecuteTime": {
     "end_time": "2023-09-05T10:53:00.804523Z",
     "start_time": "2023-09-05T10:53:00.797714Z"
    }
   },
   "outputs": [],
   "source": [
    "# From a dictionary, you can get a list of both the keys and the values.\n",
    "keys = list(d.keys())\n",
    "print(f'keys: {keys}')\n",
    "\n",
    "values = list(d.values())\n",
    "print(f'values: {values}')"
   ]
  },
  {
   "cell_type": "code",
   "execution_count": null,
   "metadata": {
    "ExecuteTime": {
     "end_time": "2023-09-05T10:53:01.543334Z",
     "start_time": "2023-09-05T10:53:01.518821Z"
    }
   },
   "outputs": [],
   "source": [
    "#If you pass a key that doesn't exist, you get an error.\n",
    "d['middle']"
   ]
  },
  {
   "cell_type": "code",
   "execution_count": null,
   "metadata": {
    "ExecuteTime": {
     "end_time": "2023-09-05T10:53:01.975399Z",
     "start_time": "2023-09-05T10:53:01.967975Z"
    }
   },
   "outputs": [],
   "source": [
    "# It is sometimes useful to get a default value instead of an error when a key doesn't exist\n",
    "d.get('middle','')    "
   ]
  },
  {
   "cell_type": "code",
   "execution_count": null,
   "metadata": {
    "ExecuteTime": {
     "end_time": "2023-09-05T10:53:03.547830Z",
     "start_time": "2023-09-05T10:53:03.543918Z"
    }
   },
   "outputs": [],
   "source": [
    "# You can create a dictionary from a list of keys and values by using 'dict' and 'zip'\n",
    "values = ['Dr.','Barbara','McClintock']\n",
    "keys = ['title','first','last'] \n",
    "new_dict = dict(zip(keys, values))\n",
    "print(new_dict)"
   ]
  },
  {
   "cell_type": "markdown",
   "metadata": {
    "collapsed": true
   },
   "source": [
    "## Exercises, part 2 of 2"
   ]
  },
  {
   "cell_type": "markdown",
   "metadata": {},
   "source": [
    "**E2.4**: Create a dictionary called `rc_dict` that maps DNA bases to their complementary bases. I.e., A -> T, C -> G, etc.. Then use `str.maketrans()` to convert this to a \"translation table\" named `rc_table`."
   ]
  },
  {
   "cell_type": "code",
   "execution_count": null,
   "metadata": {
    "ExecuteTime": {
     "end_time": "2023-09-05T10:53:05.674785Z",
     "start_time": "2023-09-05T10:53:05.672236Z"
    }
   },
   "outputs": [],
   "source": [
    "# Answer here"
   ]
  },
  {
   "cell_type": "markdown",
   "metadata": {},
   "source": [
    "**E2.5**: By passing `rc_table` to the string method `.translate()`, then using indexing with a step of -1, compute the reverse complement of the MCS sequence given above."
   ]
  },
  {
   "cell_type": "code",
   "execution_count": null,
   "metadata": {
    "ExecuteTime": {
     "end_time": "2023-09-05T10:53:06.468738Z",
     "start_time": "2023-09-05T10:53:06.466069Z"
    }
   },
   "outputs": [],
   "source": [
    "# Answer here"
   ]
  },
  {
   "cell_type": "markdown",
   "metadata": {},
   "source": [
    "**E2.6**: We have not yet discussed sets. Using Google, figure out what `set` objects are and explain what they represent. In particular, explain why Python evaluates {2,3,3} < {1,2,3} as True."
   ]
  },
  {
   "cell_type": "code",
   "execution_count": null,
   "metadata": {
    "ExecuteTime": {
     "end_time": "2022-08-29T12:43:23.019493Z",
     "start_time": "2022-08-29T12:43:23.016979Z"
    }
   },
   "outputs": [],
   "source": [
    "# Answer here"
   ]
  },
  {
   "cell_type": "code",
   "execution_count": null,
   "metadata": {},
   "outputs": [],
   "source": []
  }
 ],
 "metadata": {
  "kernelspec": {
   "display_name": "Python 3 (ipykernel)",
   "language": "python",
   "name": "python3"
  },
  "language_info": {
   "codemirror_mode": {
    "name": "ipython",
    "version": 3
   },
   "file_extension": ".py",
   "mimetype": "text/x-python",
   "name": "python",
   "nbconvert_exporter": "python",
   "pygments_lexer": "ipython3",
   "version": "3.9.15"
  },
  "varInspector": {
   "cols": {
    "lenName": 16,
    "lenType": 16,
    "lenVar": 40
   },
   "kernels_config": {
    "python": {
     "delete_cmd_postfix": "",
     "delete_cmd_prefix": "del ",
     "library": "var_list.py",
     "varRefreshCmd": "print(var_dic_list())"
    },
    "r": {
     "delete_cmd_postfix": ") ",
     "delete_cmd_prefix": "rm(",
     "library": "var_list.r",
     "varRefreshCmd": "cat(var_dic_list()) "
    }
   },
   "types_to_exclude": [
    "module",
    "function",
    "builtin_function_or_method",
    "instance",
    "_Feature"
   ],
   "window_display": false
  }
 },
 "nbformat": 4,
 "nbformat_minor": 1
}
